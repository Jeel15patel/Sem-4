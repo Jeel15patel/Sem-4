{
 "cells": [
  {
   "attachments": {},
   "cell_type": "markdown",
   "metadata": {},
   "source": [
    "# Multi Threading\n"
   ]
  },
  {
   "cell_type": "code",
   "execution_count": 6,
   "metadata": {},
   "outputs": [],
   "source": [
    "import time\n",
    "import threading\n"
   ]
  },
  {
   "cell_type": "code",
   "execution_count": 6,
   "metadata": {},
   "outputs": [
    {
     "name": "stdout",
     "output_type": "stream",
     "text": [
      "Thu May 18 09:26:00 2023\n",
      "Threading Start\n",
      "good Morning - 1\n",
      "Threading Start\n",
      "good Afternoom - 1\n",
      "good Afternoomgood Morning - 2\n",
      " - 2\n",
      "good Morning - 3\n",
      "good Afternoom - 3\n",
      "good Morninggood Afternoom - 4\n",
      " - 4\n",
      "good Morninggood Afternoom - 5\n",
      " - 5\n",
      "good Afternoomgood Morning - 6\n",
      " - 6\n",
      "good Afternoomgood Morning - 7\n",
      " - 7\n",
      "good Afternoomgood Morning - 8\n",
      " - 8\n",
      "good Afternoomgood Morning - 9\n",
      " - 9\n",
      "good Afternoom - 10\n",
      "good Morning - 10\n",
      "Thu May 18 09:26:10 2023\n"
     ]
    }
   ],
   "source": [
    "def printmsg(msg, stime):\n",
    "    print(\"Threading Start\")\n",
    "    for i in range(10):\n",
    "        print(msg, \"-\", (i+1))\n",
    "        time.sleep(stime)\n",
    "\n",
    "\n",
    "t1 = threading.Thread(target=printmsg, args=(\"good Morning\", 1))\n",
    "t2 = threading.Thread(target=printmsg, args=(\"good Afternoom\", 1))\n",
    "\n",
    "print(time.ctime())\n",
    "t1.start()\n",
    "t2.start()\n",
    "t1.join()\n",
    "t2.join()\n",
    "print(time.ctime())\n"
   ]
  },
  {
   "cell_type": "code",
   "execution_count": 8,
   "metadata": {},
   "outputs": [
    {
     "name": "stdout",
     "output_type": "stream",
     "text": [
      "Thu May 18 09:26:50 2023\n",
      "Threading Start\n",
      "Good Morning - 1\n",
      "Good Morning - 2\n",
      "Good Morning - 3\n",
      "Good Morning - 4\n",
      "Good Morning - 5\n",
      "Good Morning - 6\n",
      "Good Morning - 7\n",
      "Good Morning - 8\n",
      "Good Morning - 9\n",
      "Good Morning - 10\n",
      "Threading Start\n",
      "Good Afternoon - 1\n",
      "Good Afternoon - 2\n",
      "Good Afternoon - 3\n",
      "Good Afternoon - 4\n",
      "Good Afternoon - 5\n",
      "Good Afternoon - 6\n",
      "Good Afternoon - 7\n",
      "Good Afternoon - 8\n",
      "Good Afternoon - 9\n",
      "Good Afternoon - 10\n",
      "Thu May 18 09:27:10 2023\n"
     ]
    }
   ],
   "source": [
    "def printmsg(msg, stime):\n",
    "    print(\"Threading Start\")\n",
    "    for i in range(10):\n",
    "        print(msg, \"-\", (i+1))\n",
    "        time.sleep(stime)\n",
    "\n",
    "\n",
    "print(time.ctime())\n",
    "printmsg(\"Good Morning\", 1)\n",
    "printmsg(\"Good Afternoon\", 1)\n",
    "print(time.ctime())\n"
   ]
  },
  {
   "cell_type": "code",
   "execution_count": 3,
   "metadata": {},
   "outputs": [
    {
     "name": "stdout",
     "output_type": "stream",
     "text": [
      "Thu May 18 09:34:52 2023\n",
      "Threading Start\n",
      "good Morning - 1\n",
      "good Morning - 2\n",
      "good Morning - 3\n",
      "good Morning - 4\n",
      "good Morning - 5\n",
      "good Morning - 6\n",
      "good Morning - 7\n",
      "good Morning - 8\n",
      "good Morning - 9\n",
      "good Morning - 10\n",
      "Threading Start\n",
      "good Afternoom - 1\n",
      "good Afternoom - 2\n",
      "good Afternoom - 3\n",
      "good Afternoom - 4\n",
      "good Afternoom - 5\n",
      "good Afternoom - 6\n",
      "good Afternoom - 7\n",
      "good Afternoom - 8\n",
      "good Afternoom - 9\n",
      "good Afternoom - 10\n",
      "Thu May 18 09:35:12 2023\n"
     ]
    }
   ],
   "source": [
    "def printmsg(msg, stime):\n",
    "    print(\"Threading Start\")\n",
    "    for i in range(10):\n",
    "        print(msg, \"-\", (i+1))\n",
    "        time.sleep(stime)\n",
    "\n",
    "\n",
    "t1 = threading.Thread(target=printmsg, args=(\"good Morning\", 1))\n",
    "t2 = threading.Thread(target=printmsg, args=(\"good Afternoom\", 1))\n",
    "print(time.ctime())\n",
    "t1.start()\n",
    "t1.join()\n",
    "t2.start()\n",
    "t2.join()\n",
    "print(time.ctime())\n"
   ]
  },
  {
   "attachments": {},
   "cell_type": "markdown",
   "metadata": {},
   "source": [
    "# PY Regular Expression\n"
   ]
  },
  {
   "cell_type": "code",
   "execution_count": 12,
   "metadata": {},
   "outputs": [
    {
     "name": "stdout",
     "output_type": "stream",
     "text": [
      "['ai', 'ai']\n",
      "['a', 'n', 'n', 'a', 'n']\n",
      "['h', 'e', 'a', 'i', 'n', 'i', 'n', 'a', 'i', 'n']\n",
      "<re.Match object; span=(3, 4), match=' '>\n"
     ]
    }
   ],
   "source": [
    "import re\n",
    "txt = \"The Rain in Spain\"\n",
    "\n",
    "x = re.findall(\"ai\", txt)\n",
    "print(x)\n",
    "\n",
    "print(re.findall(\"[arn]\", txt))\n",
    "\n",
    "print(re.findall(\"[a-n]\", txt))\n",
    "\n",
    "print(re.search(\"\\s\", txt))\n"
   ]
  },
  {
   "cell_type": "code",
   "execution_count": 16,
   "metadata": {},
   "outputs": [
    {
     "name": "stdout",
     "output_type": "stream",
     "text": [
      "['The', 'Rain', 'in', 'Spain']\n",
      "['The', 'Rain in Spain']\n"
     ]
    }
   ],
   "source": [
    "# Split\n",
    "\n",
    "txt = \"The Rain in Spain\"\n",
    "\n",
    "print(re.split(\"\\s\", txt))\n",
    "\n",
    "print(re.split(\"\\s\", txt, 1))\n"
   ]
  },
  {
   "cell_type": "code",
   "execution_count": 30,
   "metadata": {},
   "outputs": [
    {
     "name": "stdout",
     "output_type": "stream",
     "text": [
      "TheQRainQinQQQQQQQQQQQQQQQQQQQQQQQQQQQQQQQQQSpain\n",
      "The Rain in Spain\n"
     ]
    }
   ],
   "source": [
    "# Sub\n",
    "\n",
    "txt = \"The Rain in                                 Spain\"\n",
    "\n",
    "print(re.sub(\"\\s\", \"Q\", txt))\n",
    "\n",
    "print(re.sub(\"\\s+\", \" \", txt))\n"
   ]
  },
  {
   "cell_type": "code",
   "execution_count": 34,
   "metadata": {},
   "outputs": [
    {
     "name": "stdout",
     "output_type": "stream",
     "text": [
      "[['8200737395'], ['8524560010'], ['7531598624'], [], ['8855224466']]\n"
     ]
    }
   ],
   "source": [
    "txt = \"8200737395 8524560010 74185296355 7531598624 3467928550 8855224466\"\n",
    "z = []\n",
    "y = re.split(\" \", txt)\n",
    "for i in y:\n",
    "    if len(i) == 10:\n",
    "        x = re.findall(\"[6-9][0-9]{9}\", i)\n",
    "        z.append(x)\n",
    "print(z)\n"
   ]
  },
  {
   "cell_type": "code",
   "execution_count": 35,
   "metadata": {},
   "outputs": [
    {
     "name": "stdout",
     "output_type": "stream",
     "text": [
      "8200737395\n",
      "8524560010\n",
      "7531598624\n",
      "8855224466\n"
     ]
    }
   ],
   "source": [
    "# Number\n",
    "\n",
    "nums = \"8200737395 8524560010 74185296355 7531598624 3467928550 8855224466\"\n",
    "num_array = re.split(\"\\s+\", nums)\n",
    "for i in num_array:\n",
    "    if len(i) == 10:\n",
    "        if re.findall(\"[06-9][0-9]{9}\", i):\n",
    "            print(i)"
   ]
  },
  {
   "cell_type": "code",
   "execution_count": 56,
   "metadata": {},
   "outputs": [
    {
     "name": "stdout",
     "output_type": "stream",
     "text": [
      "dwijpatel1704@gmail.com\n",
      "1231@gmail.com\n",
      "6201jeel15patel@gmail.com\n"
     ]
    }
   ],
   "source": [
    "# Email\n",
    "# RE :- \\w+[a-zA-Z,0-9]+@+[a-zA-Z.]+\n",
    "# Dwij RE : (^[a-zA-Z0-9_.+-]+@[a-zA-Z0-9-]+\\.[a-zA-Z0-9-.]+$)\n",
    "\n",
    "email = \"dwijpatel1704@gmail.com     helloWTF@@gmail.com    q232112 wdadd 1231@gmail.com   6201jeel15patel@gmail.com\"\n",
    "email_array = re.split(\"\\s+\", email)\n",
    "for i in email_array:\n",
    "    if re.findall(\"^[a-zA-Z0-9]+[._a-zA-Z0-9]+@{1}+[a-zA-Z0-9.]+\", i):\n",
    "        print(i)\n"
   ]
  },
  {
   "cell_type": "code",
   "execution_count": 57,
   "metadata": {},
   "outputs": [
    {
     "name": "stdout",
     "output_type": "stream",
     "text": [
      "aejddshi\n",
      "aedff\n",
      "aweksdff\n",
      "aesdfjif\n",
      "awmdsk\n",
      "ae\n",
      "ehvbhb\n",
      "enifdnjv\n",
      "enfnvn\n"
     ]
    }
   ],
   "source": [
    "txt = \"aejddshi bsdgaw  aedff aweksdff  aesdfjif awmdsk ae ehvbhb enifdnjv enfnvn\"\n",
    "txt_array = re.split(\"\\s+\", txt)\n",
    "for i in txt_array:\n",
    "    if re.findall(\"^[ae]\", i):\n",
    "        print(i)\n",
    " "
   ]
  }
 ],
 "metadata": {
  "kernelspec": {
   "display_name": "Python 3",
   "language": "python",
   "name": "python3"
  },
  "language_info": {
   "codemirror_mode": {
    "name": "ipython",
    "version": 3
   },
   "file_extension": ".py",
   "mimetype": "text/x-python",
   "name": "python",
   "nbconvert_exporter": "python",
   "pygments_lexer": "ipython3",
   "version": "3.11.3"
  },
  "orig_nbformat": 4
 },
 "nbformat": 4,
 "nbformat_minor": 2
}
