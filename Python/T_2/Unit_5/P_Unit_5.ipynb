{
 "cells": [
  {
   "attachments": {},
   "cell_type": "markdown",
   "metadata": {},
   "source": [
    "# IMPORT\n"
   ]
  },
  {
   "cell_type": "code",
   "execution_count": 14,
   "metadata": {},
   "outputs": [],
   "source": [
    "import matplotlib.pyplot as plt\n",
    "import numpy as np\n",
    "import pandas as pd\n",
    "from sklearn.model_selection import train_test_split\n",
    "from sklearn.linear_model import LinearRegression\n",
    "from sklearn import metrics"
   ]
  },
  {
   "cell_type": "code",
   "execution_count": 4,
   "metadata": {},
   "outputs": [
    {
     "name": "stdout",
     "output_type": "stream",
     "text": [
      "   cgpa  package\n",
      "0  6.89     3.26\n",
      "1  5.12     1.98\n",
      "2  7.82     3.25\n",
      "3  7.42     3.67\n",
      "4  6.94     3.57\n"
     ]
    }
   ],
   "source": [
    "df = pd.read_csv(\"Book1.csv\")\n",
    "print(df.head())"
   ]
  },
  {
   "cell_type": "code",
   "execution_count": 5,
   "metadata": {},
   "outputs": [
    {
     "name": "stdout",
     "output_type": "stream",
     "text": [
      "     cgpa\n",
      "0    6.89\n",
      "1    5.12\n",
      "2    7.82\n",
      "3    7.42\n",
      "4    6.94\n",
      "..    ...\n",
      "195  6.93\n",
      "196  5.89\n",
      "197  7.21\n",
      "198  7.63\n",
      "199  6.22\n",
      "\n",
      "[200 rows x 1 columns]\n",
      "0      3.26\n",
      "1      1.98\n",
      "2      3.25\n",
      "3      3.67\n",
      "4      3.57\n",
      "       ... \n",
      "195    2.46\n",
      "196    2.57\n",
      "197    3.24\n",
      "198    3.96\n",
      "199    2.33\n",
      "Name: package, Length: 200, dtype: float64\n"
     ]
    }
   ],
   "source": [
    "x = df.iloc[:, 0:1]\n",
    "y = df.iloc[:, -1]\n",
    "print(x)\n",
    "print(y)"
   ]
  },
  {
   "cell_type": "code",
   "execution_count": 6,
   "metadata": {},
   "outputs": [
    {
     "name": "stdout",
     "output_type": "stream",
     "text": [
      "(160, 1)\n",
      "(40, 1)\n",
      "(160,)\n",
      "(40,)\n"
     ]
    }
   ],
   "source": [
    "x_train, x_test, y_train, y_test = train_test_split(x, y, test_size=0.2, random_state=2)\n",
    "\n",
    "print(x_train.shape)\n",
    "print(x_test.shape)\n",
    "print(y_train.shape)\n",
    "print(y_test.shape)"
   ]
  },
  {
   "cell_type": "code",
   "execution_count": 7,
   "metadata": {},
   "outputs": [
    {
     "name": "stdout",
     "output_type": "stream",
     "text": [
      "     cgpa\n",
      "137  7.14\n",
      "163  8.93\n",
      "111  5.42\n",
      "123  5.10\n",
      "109  7.77\n",
      "..    ...\n",
      "43   7.66\n",
      "22   6.14\n",
      "72   7.78\n",
      "15   7.25\n",
      "168  8.65\n",
      "\n",
      "[160 rows x 1 columns]\n",
      "     cgpa\n",
      "112  8.58\n",
      "29   7.15\n",
      "182  5.88\n",
      "199  6.22\n",
      "193  4.57\n",
      "85   4.79\n",
      "10   5.32\n",
      "54   6.86\n",
      "115  8.35\n",
      "35   6.87\n",
      "12   8.94\n",
      "92   7.90\n",
      "13   6.93\n",
      "126  5.91\n",
      "174  7.32\n",
      "2    7.82\n",
      "44   5.09\n",
      "3    7.42\n",
      "113  6.94\n",
      "14   7.73\n",
      "23   6.19\n",
      "25   7.28\n",
      "6    6.73\n",
      "134  7.20\n",
      "165  8.21\n",
      "173  6.75\n",
      "45   7.87\n",
      "65   7.60\n",
      "48   8.63\n",
      "122  5.12\n",
      "178  8.15\n",
      "64   7.36\n",
      "9    8.31\n",
      "57   6.60\n",
      "78   6.59\n",
      "71   7.47\n",
      "128  7.93\n",
      "176  6.29\n",
      "131  6.37\n",
      "53   6.47\n",
      "137    3.13\n",
      "163    3.91\n",
      "111    2.25\n",
      "123    2.30\n",
      "109    4.06\n",
      "       ... \n",
      "43     2.76\n",
      "22     2.30\n",
      "72     3.62\n",
      "15     3.23\n",
      "168    3.52\n",
      "Name: package, Length: 160, dtype: float64\n",
      "112    4.10\n",
      "29     3.49\n",
      "182    2.08\n",
      "199    2.33\n",
      "193    1.94\n",
      "85     1.48\n",
      "10     1.86\n",
      "54     3.09\n",
      "115    4.21\n",
      "35     2.87\n",
      "12     3.65\n",
      "92     4.00\n",
      "13     2.89\n",
      "126    2.60\n",
      "174    2.99\n",
      "2      3.25\n",
      "44     1.86\n",
      "3      3.67\n",
      "113    2.37\n",
      "14     3.42\n",
      "23     2.48\n",
      "25     3.65\n",
      "6      2.60\n",
      "134    2.83\n",
      "165    4.08\n",
      "173    2.56\n",
      "45     3.58\n",
      "65     3.81\n",
      "48     4.09\n",
      "122    2.01\n",
      "178    3.63\n",
      "64     2.92\n",
      "9      3.51\n",
      "57     1.94\n",
      "78     2.21\n",
      "71     3.34\n",
      "128    3.34\n",
      "176    3.23\n",
      "131    2.01\n",
      "53     2.61\n",
      "Name: package, dtype: float64\n"
     ]
    }
   ],
   "source": [
    "print(x_train)\n",
    "print(x_test)\n",
    "print(y_train)\n",
    "print(y_test)"
   ]
  },
  {
   "cell_type": "code",
   "execution_count": 8,
   "metadata": {},
   "outputs": [
    {
     "name": "stdout",
     "output_type": "stream",
     "text": [
      "     Actual      Pred\n",
      "112    4.10  3.891116\n",
      "29     3.49  3.093245\n",
      "182    2.08  2.384646\n",
      "199    2.33  2.574349\n",
      "193    1.94  1.653729\n",
      "85     1.48  1.776478\n",
      "10     1.86  2.072193\n",
      "54     3.09  2.931439\n",
      "115    4.21  3.762787\n",
      "35     2.87  2.937018\n",
      "12     3.65  4.091979\n",
      "92     4.00  3.511709\n",
      "13     2.89  2.970495\n",
      "126    2.60  2.401384\n",
      "174    2.99  3.188097\n",
      "2      3.25  3.467073\n",
      "44     1.86  1.943864\n",
      "3      3.67  3.243892\n",
      "113    2.37  2.976075\n",
      "14     3.42  3.416857\n",
      "23     2.48  2.557611\n",
      "25     3.65  3.165778\n",
      "6      2.60  2.858905\n",
      "134    2.83  3.121142\n",
      "165    4.08  3.684674\n",
      "173    2.56  2.870064\n",
      "45     3.58  3.494970\n",
      "65     3.81  3.344323\n",
      "48     4.09  3.919014\n",
      "122    2.01  1.960602\n",
      "178    3.63  3.651197\n",
      "64     2.92  3.210415\n",
      "9      3.51  3.740469\n",
      "57     1.94  2.786371\n",
      "78     2.21  2.780792\n",
      "71     3.34  3.271789\n",
      "128    3.34  3.528447\n",
      "176    3.23  2.613406\n",
      "131    2.01  2.658042\n",
      "53     2.61  2.713837\n"
     ]
    }
   ],
   "source": [
    "lr = LinearRegression()\n",
    "lr.fit(x_train, y_train)\n",
    "y_pred = lr.predict(x_test)\n",
    "d = pd.DataFrame({\"Actual\": y_test, \"Pred\": y_pred})\n",
    "print(d)"
   ]
  },
  {
   "cell_type": "code",
   "execution_count": 11,
   "metadata": {},
   "outputs": [
    {
     "data": {
      "image/png": "[encoded data removed]",
      "text/plain": [
       "<Figure size 640x480 with 1 Axes>"
      ]
     },
     "metadata": {},
     "output_type": "display_data"
    }
   ],
   "source": [
    "plt.scatter(df[\"cgpa\"],df[\"package\"])\n",
    "plt.plot(x_test,y_pred,color=\"red\")\n",
    "plt.show()"
   ]
  },
  {
   "cell_type": "code",
   "execution_count": 12,
   "metadata": {},
   "outputs": [
    {
     "name": "stdout",
     "output_type": "stream",
     "text": [
      "[0.55795197]\n",
      "-0.8961119222429144\n"
     ]
    }
   ],
   "source": [
    "print(lr.coef_) # value of M\n",
    "print(lr.intercept_) # value of C"
   ]
  },
  {
   "cell_type": "code",
   "execution_count": 15,
   "metadata": {},
   "outputs": [
    {
     "name": "stdout",
     "output_type": "stream",
     "text": [
      "MAE 0.2884710931878175\n",
      "MSE 0.12129235313495527\n"
     ]
    }
   ],
   "source": [
    "print(\"MAE\",metrics.mean_absolute_error(y_test,y_pred))\n",
    "print(\"MSE\",metrics.mean_squared_error(y_test,y_pred))"
   ]
  },
  {
   "cell_type": "code",
   "execution_count": 16,
   "metadata": {},
   "outputs": [
    {
     "name": "stdout",
     "output_type": "stream",
     "text": [
      "Pred Package for given: [4.06966064]\n"
     ]
    },
    {
     "name": "stderr",
     "output_type": "stream",
     "text": [
      "c:\\Python311\\Lib\\site-packages\\sklearn\\base.py:439: UserWarning: X does not have valid feature names, but LinearRegression was fitted with feature names\n",
      "  warnings.warn(\n"
     ]
    }
   ],
   "source": [
    "y_pred = lr.predict([[8.9]])\n",
    "print(\"Pred Package for given:\",y_pred)"
   ]
  }
 ],
 "metadata": {
  "kernelspec": {
   "display_name": "Python 3",
   "language": "python",
   "name": "python3"
  },
  "language_info": {
   "codemirror_mode": {
    "name": "ipython",
    "version": 3
   },
   "file_extension": ".py",
   "mimetype": "text/x-python",
   "name": "python",
   "nbconvert_exporter": "python",
   "pygments_lexer": "ipython3",
   "version": "3.11.3"
  },
  "orig_nbformat": 4
 },
 "nbformat": 4,
 "nbformat_minor": 2
}
